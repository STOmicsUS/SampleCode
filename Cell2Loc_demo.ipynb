{
 "cells": [
  {
   "cell_type": "code",
   "execution_count": null,
   "id": "ce8263cb-85c8-44da-89b4-3e39fe14ba79",
   "metadata": {},
   "outputs": [],
   "source": [
    "import argparse\n",
    "import logging\n",
    "import math\n",
    "from pathlib import Path\n",
    "from typing import List, Union\n",
    "import numpy as np\n",
    "import pandas as pd\n",
    "import scanpy as sc\n",
    "import scvi\n",
    "from lightning.pytorch import seed_everything\n",
    "import matplotlib.pyplot as plt\n",
    "import matplotlib as mpl\n",
    "from matplotlib import rcParams\n",
    "import cell2location\n",
    "from cell2location.utils.filtering import filter_genes\n",
    "from cell2location.models import RegressionModel\n",
    "from anndata import AnnData\n",
    "from scipy.sparse import issparse\n",
    "from scanpy.plotting._tools.scatterplots import _get_palette"
   ]
  },
  {
   "cell_type": "code",
   "execution_count": null,
   "id": "d2213970-2b15-4766-8429-f6275ee4d6ae",
   "metadata": {},
   "outputs": [],
   "source": [
    "# Configure logging\n",
    "logging.basicConfig(level=logging.INFO, format='%(asctime)s - %(levelname)s - %(message)s')\n",
    "logger = logging.getLogger(__name__)"
   ]
  },
  {
   "cell_type": "code",
   "execution_count": null,
   "id": "333c8317-6968-43e1-953c-b2fa7e89532c",
   "metadata": {},
   "outputs": [],
   "source": [
    "seed = 42\n",
    "scvi.settings.seed = seed\n",
    "seed_everything(seed, workers=True)"
   ]
  },
  {
   "cell_type": "code",
   "execution_count": null,
   "id": "bbb1a8ab-dbe3-4cda-8c93-7a95065b4ddb",
   "metadata": {},
   "outputs": [],
   "source": [
    "reference_file = \"./scData.h5ad\"  # Replace with your file path\n",
    "reference_output_dir = \"./demo_reference_output\"\n",
    "adata_ref = sc.read_h5ad(reference_file)"
   ]
  },
  {
   "cell_type": "code",
   "execution_count": null,
   "id": "da6e6ac1-f451-4eba-bb6b-c15fd9299983",
   "metadata": {},
   "outputs": [],
   "source": [
    "selected = filter_genes(adata_ref, cell_count_cutoff=5, cell_percentage_cutoff2=0.05, nonz_mean_cutoff=1.25)\n",
    "Path(reference_output_dir).mkdir(exist_ok=True, parents=True)\n",
    "plt.savefig(Path(reference_output_dir).joinpath(f'{Path(reference_file).stem}_filter_genes.png'))\n",
    "plt.close()        \n",
    "adata_ref = adata_ref[:, selected].copy()"
   ]
  },
  {
   "cell_type": "code",
   "execution_count": null,
   "id": "35632704-0aa8-4f7f-91cc-959542afdec8",
   "metadata": {},
   "outputs": [],
   "source": [
    "cell2location.models.RegressionModel.setup_anndata(adata=adata_ref, batch_key=None, labels_key=\"Broad_labels\")\n",
    "mod = RegressionModel(adata_ref)\n",
    "mod.view_anndata_setup()\n",
    "mod.train(max_epochs=250)\n",
    "mod.plot_history(20)\n",
    "plt.savefig(Path(reference_output_dir).joinpath(f'{Path(reference_file).stem}_train_history.png'))"
   ]
  },
  {
   "cell_type": "code",
   "execution_count": null,
   "id": "99efefbe-2285-4970-9ee0-7b21c35c9e02",
   "metadata": {},
   "outputs": [],
   "source": [
    "adata_ref = mod.export_posterior(adata_ref, sample_kwargs={'num_samples': 1000, 'batch_size': 2500})\n",
    "if 'means_per_cluster_mu_fg' in adata_ref.varm.keys():\n",
    "    inf_aver = adata_ref.varm['means_per_cluster_mu_fg'][[f'means_per_cluster_mu_fg_{i}' for i in adata_ref.uns['mod']['factor_names']]].copy()\n",
    "else:\n",
    "    inf_aver = adata_ref.var[[f'means_per_cluster_mu_fg_{i}' for i in adata_ref.uns['mod']['factor_names']]].copy()\n",
    "inf_aver.columns = adata_ref.uns['mod']['factor_names']\n",
    "inf_aver.index.name = None\n",
    "inf_aver.to_csv(Path(reference_output_dir).joinpath(f'{Path(reference_file).stem}_inf_aver.csv'), sep=',')\n",
    "logger.info(f'Reference saved to {reference_output_dir}')"
   ]
  },
  {
   "cell_type": "code",
   "execution_count": null,
   "id": "22c868bc-f730-4d0a-b615-d3183cde9ad8",
   "metadata": {},
   "outputs": [],
   "source": [
    "spatial_file =\"./bin100.scanpy.h5ad\"  # Replace with your file path\n",
    "reference_csv = \"demo_reference_output/scData_inf_aver.csv\"  # From step 1\n",
    "annotation_output_dir = \"./demo_annotation_output\"\n",
    "adata = sc.read_h5ad(spatial_file)\n",
    "adata.var['mt'] = adata.var_names.str.startswith(('mt-', 'MT-'))\n",
    "adata = adata[:, ~adata.var['mt'].values]\n",
    "adata"
   ]
  },
  {
   "cell_type": "code",
   "execution_count": null,
   "id": "0feafbd7-7c63-4403-acc6-bd979175fb26",
   "metadata": {},
   "outputs": [],
   "source": [
    "inf_aver = pd.read_csv(reference_csv, index_col=0)\n",
    "inf_aver.index = inf_aver.index.astype(str)\n",
    "intersect = np.intersect1d(adata.var_names, inf_aver.index)\n",
    "adata = adata[:, intersect].copy()\n",
    "inf_aver = inf_aver.loc[intersect, :].copy()"
   ]
  },
  {
   "cell_type": "code",
   "execution_count": null,
   "id": "696949a6-90af-4a14-9d5b-feab1736ac99",
   "metadata": {},
   "outputs": [],
   "source": [
    "cell2location.models.Cell2location.setup_anndata(adata=adata)\n",
    "mod2 = cell2location.models.Cell2location(adata, cell_state_df=inf_aver, \n",
    "                                           N_cells_per_location=25)\n",
    "mod2.view_anndata_setup()\n",
    "    \n",
    "mod2.train(max_epochs=5000, batch_size=None, train_size=1)\n"
   ]
  },
  {
   "cell_type": "code",
   "execution_count": null,
   "id": "5cd4f850-6d7d-4de9-9107-4ba8cd76765c",
   "metadata": {},
   "outputs": [],
   "source": [
    "adata = mod2.export_posterior(adata, sample_kwargs={'num_samples': 1000, 'batch_size': 10000})"
   ]
  },
  {
   "cell_type": "code",
   "execution_count": null,
   "id": "6b00ae3d-bc2d-4e2f-b5be-0ff88f4a2e97",
   "metadata": {},
   "outputs": [],
   "source": [
    "adata.obsm['q05_cell_abundance_w_sf'][0:10]"
   ]
  },
  {
   "cell_type": "code",
   "execution_count": null,
   "id": "1bcf9a69-74cc-4cb7-ac2f-2f72a3095c87",
   "metadata": {},
   "outputs": [],
   "source": [
    "factor_names = adata.uns['mod']['factor_names']\n",
    "factor_names"
   ]
  },
  {
   "cell_type": "code",
   "execution_count": null,
   "id": "d85d2414-89fc-4143-a456-9c88767760d4",
   "metadata": {},
   "outputs": [],
   "source": [
    "adata.obs[factor_names] = adata.obsm['q05_cell_abundance_w_sf']\n",
    "adata.obs"
   ]
  },
  {
   "cell_type": "code",
   "execution_count": null,
   "id": "192541b4-1fe0-443c-99b6-d6280b82d8e8",
   "metadata": {},
   "outputs": [],
   "source": []
  },
  {
   "cell_type": "code",
   "execution_count": null,
   "id": "fc5c522c-dee0-4810-932a-fc43e7eed2b6",
   "metadata": {},
   "outputs": [],
   "source": [
    "cellList = list(set(inf_aver.columns) & set(adata.obs.columns))\n",
    "cellList\n",
    "adata.obs['cell2loc_anno'] = adata.obs[cellList].idxmax(axis=1)\n",
    "out_df = adata.obs[factor_names].copy()\n",
    "out_df['annotation'] = adata.obs['cell2loc_anno']\n",
    "out_df.to_csv(f'demo_reference_output/{Path(spatial_file).stem}_anno_cell2location.csv')"
   ]
  },
  {
   "cell_type": "code",
   "execution_count": null,
   "id": "aa1648dd-3d64-44b4-8ce1-178a0c298a30",
   "metadata": {},
   "outputs": [],
   "source": [
    "adata.write_h5ad(f'demo_reference_output/{Path(spatial_file).stem}_cell2location.h5ad', compression='gzip')"
   ]
  },
  {
   "cell_type": "code",
   "execution_count": null,
   "id": "97cc8322-5b24-45d9-ba06-17682d0ec775",
   "metadata": {},
   "outputs": [],
   "source": [
    "\n",
    "with mpl.rc_context({'axes.facecolor':  'black',\n",
    "                     'figure.figsize': [4.5, 5]}):\n",
    "\n",
    "    sc.pl.spatial(adata, cmap='magma',\n",
    "                  color=cellList,\n",
    "                  ncols=3, size=5,\n",
    "                  vmax='p99',\n",
    "                  #img_key='hires',\n",
    "                  )"
   ]
  },
  {
   "cell_type": "code",
   "execution_count": null,
   "id": "3ccb0d34-211a-40d0-ae9a-922bc1d11c78",
   "metadata": {},
   "outputs": [],
   "source": []
  }
 ],
 "metadata": {
  "kernelspec": {
   "display_name": "Python [conda env:cell2loc_env]",
   "language": "python",
   "name": "conda-env-cell2loc_env-py"
  },
  "language_info": {
   "codemirror_mode": {
    "name": "ipython",
    "version": 3
   },
   "file_extension": ".py",
   "mimetype": "text/x-python",
   "name": "python",
   "nbconvert_exporter": "python",
   "pygments_lexer": "ipython3",
   "version": "3.10.16"
  }
 },
 "nbformat": 4,
 "nbformat_minor": 5
}
